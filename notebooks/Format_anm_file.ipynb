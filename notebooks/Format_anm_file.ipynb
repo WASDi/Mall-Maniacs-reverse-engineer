{
 "cells": [
  {
   "cell_type": "markdown",
   "metadata": {},
   "source": [
    "#### Helper functions"
   ]
  },
  {
   "cell_type": "code",
   "execution_count": 1,
   "metadata": {},
   "outputs": [],
   "source": [
    "import os\n",
    "\n",
    "\n",
    "class ByteArray:\n",
    "    \n",
    "    def __init__(self, data):\n",
    "        self.seek = 0\n",
    "        self.data = data\n",
    "    \n",
    "    def eof(self):\n",
    "        return self.seek >= len(self.data)\n",
    "    \n",
    "    def validate_header(self):\n",
    "        header = self.read_raw(4)\n",
    "        if header != b'ANM\\x02':\n",
    "            raise Exception('Unexpected header: ' + str(header))\n",
    "\n",
    "        header2 = self.read_short()\n",
    "        if header2 != 0:\n",
    "            raise Exception('Unexpected header2: ' + str(header2))\n",
    "    \n",
    "    def read_byte(self):\n",
    "        val = self.data[self.seek]\n",
    "        self.seek += 1\n",
    "        return val\n",
    "    \n",
    "    def read_short(self):\n",
    "        val = self.data[self.seek] + self.data[self.seek+1] * 0x100\n",
    "        self.seek += 2\n",
    "        return val\n",
    "    \n",
    "    def read_signed_short(self):\n",
    "        val = self.read_short()\n",
    "        if val >= 2**15:\n",
    "            val -= 2**16\n",
    "        return val\n",
    "    \n",
    "    def read_raw(self, n):\n",
    "        val = self.data[self.seek:self.seek+n]\n",
    "        self.seek += n\n",
    "        return val\n",
    "    \n",
    "    def skip(self, n):\n",
    "        self.seek += n\n",
    "\n",
    "\n",
    "def chunks(l, n):\n",
    "    for i in range(0, len(l), n):\n",
    "        yield l[i:i + n]\n",
    "\n",
    "\n",
    "def chunk_hex(byte_arr):\n",
    "    return ' '.join(chunks(''.join([f'{b:02X}' for b in byte_arr]), 4))"
   ]
  },
  {
   "cell_type": "markdown",
   "metadata": {},
   "source": [
    "#### Main"
   ]
  },
  {
   "cell_type": "code",
   "execution_count": 2,
   "metadata": {},
   "outputs": [],
   "source": [
    "rootdir = '/Users/wasd/Downloads/Mall Maniacs/anim/'"
   ]
  },
  {
   "cell_type": "code",
   "execution_count": 3,
   "metadata": {},
   "outputs": [],
   "source": [
    "def parse_to_keyframes(data):\n",
    "    buf = ByteArray(data)\n",
    "    buf.validate_header()\n",
    "    \n",
    "    num_crap_strings = buf.read_short()\n",
    "    for _ in range(num_crap_strings):\n",
    "        crap_length = buf.read_byte()\n",
    "        buf.skip(crap_length+2)\n",
    "    \n",
    "    num_keyframes = buf.read_short()\n",
    "    keyframes = []\n",
    "    for _ in range(num_keyframes - 1):\n",
    "        num_entries = buf.read_short()\n",
    "        entries = []\n",
    "        for _ in range(num_entries):\n",
    "            entry_type = buf.read_byte()\n",
    "            if entry_type == 5:\n",
    "                raw = buf.read_raw(8)\n",
    "            elif entry_type == 6:\n",
    "                raw = buf.read_raw(14)\n",
    "            else:\n",
    "                raise Exception('Not yet implemented entry_type: ' + str(entry_type))\n",
    "\n",
    "            entries.append((entry_type, raw))\n",
    "\n",
    "        keyframes.append(entries)\n",
    "    return keyframes"
   ]
  },
  {
   "cell_type": "code",
   "execution_count": 4,
   "metadata": {},
   "outputs": [],
   "source": [
    "file2keyframes = {}\n",
    "for file in os.listdir(rootdir):\n",
    "    if not file.endswith('.anm'):\n",
    "        continue\n",
    "    \n",
    "    with open(rootdir + file, 'rb') as f:\n",
    "        data = f.read()\n",
    "    \n",
    "    file2keyframes[file] = parse_to_keyframes(data)"
   ]
  },
  {
   "cell_type": "code",
   "execution_count": 5,
   "metadata": {},
   "outputs": [
    {
     "name": "stdout",
     "output_type": "stream",
     "text": [
      "dict_keys(['s_flpick1.anm', 's_winner.anm', 's_flpick2.anm', 's_pick.anm', 's_fl_pick1.anm', 's_fl_pick2.anm', 's_oops.anm', 'cash_sit.anm', 's_stand2.anm', 'stand.anm', 's_grab.anm', 's_clap.anm', 's_throw2.anm', 's_throw1.anm', 's_stand.anm', 's_pick1.anm', 's_loser.anm', 's_run.anm', 's_pick2.anm'])\n"
     ]
    }
   ],
   "source": [
    "print(file2keyframes.keys())"
   ]
  },
  {
   "cell_type": "code",
   "execution_count": 6,
   "metadata": {},
   "outputs": [],
   "source": [
    "def pretty_print(keyframes):\n",
    "    for entries in keyframes:\n",
    "        for e, arr in entries:\n",
    "            print(f'{e:02d} {chunk_hex(arr)}')\n",
    "        print()"
   ]
  },
  {
   "cell_type": "code",
   "execution_count": 7,
   "metadata": {
    "scrolled": false
   },
   "outputs": [
    {
     "name": "stdout",
     "output_type": "stream",
     "text": [
      "05 0600 E7ED 4EC4 3D07\n",
      "05 0700 F715 4F0B 2BF0\n",
      "05 0800 B6ED C61D 480C\n",
      "06 0000 0000 0000 5103 0000 7700 0000\n",
      "05 0000 30FF 0000 0000\n",
      "05 0100 0000 0000 0000\n",
      "05 0200 0000 0000 0000\n",
      "05 0900 0000 0000 0000\n",
      "05 0A00 0000 0000 0000\n",
      "05 0B00 0000 0000 0000\n",
      "05 0C00 0000 0000 0000\n",
      "05 0300 2AED F03C 42F8\n",
      "05 0400 3914 2EF6 CA13\n",
      "05 0500 16F3 55DC 75EC\n",
      "05 0D00 0000 0000 0000\n",
      "05 0E00 0000 0000 0000\n",
      "05 0F00 0000 0000 0000\n",
      "\n",
      "\n",
      "05 0100 2F00 0A00 0B00\n",
      "05 0200 9EFF B2FF D1FF\n",
      "\n",
      "05 0100 6300 1700 1800\n",
      "05 0200 31FF 5CFF 9DFF\n",
      "\n",
      "05 0100 9B00 2400 2600\n",
      "05 0200 BEFE 03FF 69FF\n",
      "\n",
      "05 0100 D600 3200 3500\n",
      "05 0200 48FE AAFE 36FF\n",
      "\n",
      "05 0100 1401 4100 4400\n",
      "05 0200 D1FD 53FE 06FF\n",
      "\n",
      "05 0100 5201 5000 5400\n",
      "05 0200 5DFD 03FE DBFE\n",
      "\n",
      "05 0100 9101 6000 6500\n",
      "05 0200 F0FC BDFD B5FE\n",
      "\n",
      "05 0100 CF01 6F00 7500\n",
      "05 0200 8EFC 82FD 96FE\n",
      "\n",
      "05 0100 0B02 7E00 8500\n",
      "05 0200 3AFC 56FD 7FFE\n",
      "\n",
      "05 0100 4502 8D00 9500\n",
      "05 0200 ECFB 36FD 6FFE\n",
      "\n",
      "05 0100 7B02 9B00 A400\n",
      "05 0200 A0FB 20FD 63FE\n",
      "\n",
      "05 0100 AD02 A800 B200\n",
      "05 0200 57FB 11FD 5BFE\n",
      "\n",
      "05 0100 DA02 B400 BE00\n",
      "05 0200 16FB 0BFD 56FE\n",
      "\n",
      "05 0100 0103 BF00 C900\n",
      "05 0200 E0FA 0BFD 55FE\n",
      "\n",
      "05 0100 2003 C700 D200\n",
      "05 0200 BAFA 12FD 57FE\n",
      "\n",
      "05 0100 3803 CE00 D900\n",
      "05 0200 A6FA 1EFD 5CFE\n",
      "\n",
      "05 0100 4703 D200 DD00\n",
      "05 0200 A8FA 31FD 64FE\n",
      "\n",
      "05 0100 4C03 D300 DF00\n",
      "05 0200 C3FA 48FD 6EFE\n",
      "\n",
      "05 0100 4103 D000 DC00\n",
      "05 0200 F9FA 66FD 7DFE\n",
      "\n",
      "05 0100 2303 C800 D300\n",
      "05 0200 44FB 8DFD 90FE\n",
      "\n",
      "05 0100 F502 BB00 C600\n",
      "05 0200 A1FB BBFD A8FE\n",
      "\n",
      "05 0100 B902 AB00 B500\n",
      "05 0200 0CFC F0FD C4FE\n",
      "\n",
      "05 0100 7202 9900 A100\n",
      "05 0200 81FC 2AFE E3FE\n",
      "\n",
      "05 0100 2402 8500 8C00\n",
      "05 0200 FBFC 67FE 05FF\n",
      "\n",
      "05 0100 D101 7000 7600\n",
      "05 0200 78FD A6FE 2AFF\n",
      "\n",
      "05 0100 7D01 5B00 6000\n",
      "05 0200 F4FD E5FE 4FFF\n",
      "\n",
      "05 0100 2A01 4600 4A00\n",
      "05 0200 6AFE 23FF 74FF\n",
      "\n",
      "05 0100 DB00 3300 3600\n",
      "05 0200 D8FE 5EFF 98FF\n",
      "\n",
      "05 0100 9400 2200 2400\n",
      "05 0200 39FF 92FF BAFF\n",
      "\n",
      "05 0100 5800 1400 1500\n",
      "05 0200 8BFF BFFF D6FF\n",
      "\n",
      "05 0100 2900 0900 0A00\n",
      "05 0200 CAFF E2FF EDFF\n",
      "\n",
      "05 0100 0A00 0200 0200\n",
      "05 0200 F2FF F9FF FBFF\n",
      "\n",
      "05 0100 0000 0000 0000\n",
      "05 0200 0000 0000 0000\n",
      "\n"
     ]
    }
   ],
   "source": [
    "pretty_print(file2keyframes['s_stand.anm'])"
   ]
  },
  {
   "cell_type": "markdown",
   "metadata": {},
   "source": [
    "#### Plot stand"
   ]
  },
  {
   "cell_type": "code",
   "execution_count": 8,
   "metadata": {},
   "outputs": [],
   "source": [
    "import matplotlib.pyplot as plt\n",
    "import numpy as np"
   ]
  },
  {
   "cell_type": "code",
   "execution_count": 14,
   "metadata": {},
   "outputs": [],
   "source": [
    "def plot_keyframes(filename, vector_group_key):\n",
    "    entries = [b for frame in file2keyframes[filename] for _,b in frame if b[0:2] == vector_group_key]\n",
    "    xyz = []\n",
    "    \n",
    "    for entry in entries:\n",
    "        buf = ByteArray(entry)\n",
    "        buf.read_signed_short()\n",
    "        xyz.append((buf.read_signed_short(), buf.read_signed_short(), buf.read_signed_short()))\n",
    "    xyz = np.array(xyz)\n",
    "    \n",
    "    plt.plot(xyz[:, 0])\n",
    "    plt.plot(xyz[:, 1])\n",
    "    plt.plot(xyz[:, 2])\n",
    "    plt.show()"
   ]
  },
  {
   "cell_type": "code",
   "execution_count": 16,
   "metadata": {},
   "outputs": [
    {
     "data": {
      "image/png": "[encoded data removed]",
      "text/plain": [
       "<Figure size 432x288 with 1 Axes>"
      ]
     },
     "metadata": {
      "needs_background": "light"
     },
     "output_type": "display_data"
    }
   ],
   "source": [
    "plot_keyframes('s_stand.anm', b'\\x01\\x00')"
   ]
  },
  {
   "cell_type": "code",
   "execution_count": 17,
   "metadata": {},
   "outputs": [
    {
     "data": {
      "image/png": "[encoded data removed]",
      "text/plain": [
       "<Figure size 432x288 with 1 Axes>"
      ]
     },
     "metadata": {
      "needs_background": "light"
     },
     "output_type": "display_data"
    }
   ],
   "source": [
    "plot_keyframes('s_stand.anm', b'\\x02\\x00')"
   ]
  }
 ],
 "metadata": {
  "kernelspec": {
   "display_name": "Python 3",
   "language": "python",
   "name": "python3"
  },
  "language_info": {
   "codemirror_mode": {
    "name": "ipython",
    "version": 3
   },
   "file_extension": ".py",
   "mimetype": "text/x-python",
   "name": "python",
   "nbconvert_exporter": "python",
   "pygments_lexer": "ipython3",
   "version": "3.7.15"
  }
 },
 "nbformat": 4,
 "nbformat_minor": 4
}
